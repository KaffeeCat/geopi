{
 "cells": [
  {
   "cell_type": "code",
   "execution_count": null,
   "metadata": {},
   "outputs": [],
   "source": [
    "#! pip install --user --upgrade setuptools wheel\n",
    "! python3 setup.py sdist bdist_wheel"
   ]
  },
  {
   "cell_type": "code",
   "execution_count": null,
   "metadata": {},
   "outputs": [],
   "source": [
    "! pip cache purge\n",
    "! pip uninstall --yes geopi\n",
    "! rm -r ./dist\n",
    "! rm -r ./build\n",
    "! rm -r ./geopi.egg-info"
   ]
  },
  {
   "cell_type": "code",
   "execution_count": null,
   "metadata": {},
   "outputs": [],
   "source": [
    "! pip install ./dist/geopi-0.0.1-py3-none-any.whl"
   ]
  },
  {
   "cell_type": "code",
   "execution_count": null,
   "metadata": {},
   "outputs": [],
   "source": [
    "# 本机加入Token\n",
    "# https://test.pypi.org/manage/account/token/\n",
    "! vim ~/.pypirc\n",
    "\n",
    "# 上传pypi库\n",
    "! twine upload --repository pypi dist/*\n",
    "\n",
    "# 上传pypi库\n",
    "! twine upload --repository testpypi dist/*"
   ]
  }
 ],
 "metadata": {
  "language_info": {
   "name": "python"
  }
 },
 "nbformat": 4,
 "nbformat_minor": 2
}
